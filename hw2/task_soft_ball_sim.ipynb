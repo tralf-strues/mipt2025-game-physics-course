version https://git-lfs.github.com/spec/v1
oid sha256:39674efa32b262cd84ba9b7ff286e6320925bafb0b3bfcf842b9b4eaa92b677c
size 13796
