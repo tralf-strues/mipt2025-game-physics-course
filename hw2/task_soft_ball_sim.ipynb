version https://git-lfs.github.com/spec/v1
oid sha256:fabf67330fc200a1d82041fdf3918c632aa02066d222e9aed1d8856c748a6d74
size 23772548
