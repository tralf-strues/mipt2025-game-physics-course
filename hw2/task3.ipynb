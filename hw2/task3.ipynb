version https://git-lfs.github.com/spec/v1
oid sha256:4a715bdf6f677564d90bb47627fdf63144afd6e2ea28db980546f38d085eeeaa
size 53843341
