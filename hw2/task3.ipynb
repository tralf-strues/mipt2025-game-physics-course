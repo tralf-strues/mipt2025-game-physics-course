version https://git-lfs.github.com/spec/v1
oid sha256:7f84081f291f6a6ee4bdb36f1f33d99069456d32007e4e0e1ef5237d10ec75d8
size 10528
