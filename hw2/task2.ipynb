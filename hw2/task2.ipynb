version https://git-lfs.github.com/spec/v1
oid sha256:d000de08ad6c54923b46ea3d2ba9fe52f17fc693334ce0579a06729f788a4094
size 35839158
