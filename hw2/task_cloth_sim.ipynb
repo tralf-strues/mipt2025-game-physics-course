version https://git-lfs.github.com/spec/v1
oid sha256:1d87b88ef93e46e374543b71c594c2c33cbe7e4a1fc4de3bdc08e1e9ec70c19c
size 16888
