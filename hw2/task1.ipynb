version https://git-lfs.github.com/spec/v1
oid sha256:60c63a6de3d24f507d4924be54b524ddf314d0edc5f13a6f0769c66a7cdcb2b5
size 33751446
