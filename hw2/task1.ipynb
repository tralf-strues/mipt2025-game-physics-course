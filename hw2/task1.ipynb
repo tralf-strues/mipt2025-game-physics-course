version https://git-lfs.github.com/spec/v1
oid sha256:69a7ff26af6bbe6da12c61db90b5ef1ce96579829c0565d8ed416364d8354f5e
size 8375
