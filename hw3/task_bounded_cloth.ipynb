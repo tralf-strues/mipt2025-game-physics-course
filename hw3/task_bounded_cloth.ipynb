version https://git-lfs.github.com/spec/v1
oid sha256:68705ac6a4eaac550b11bc87e2f7f9bab8094f7608fc6b28cf21f8a0ff7c946c
size 17602
