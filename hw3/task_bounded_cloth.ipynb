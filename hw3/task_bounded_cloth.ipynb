version https://git-lfs.github.com/spec/v1
oid sha256:c28ef476ccd0debf7ecf906cd9bd7d026a8b7814be946efba194e55a7b196910
size 142361819
