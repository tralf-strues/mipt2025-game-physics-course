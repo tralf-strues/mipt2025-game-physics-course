version https://git-lfs.github.com/spec/v1
oid sha256:6b077232f927b1e02da2207899ffe64698418dc92e0d3b939e78fd0fa73ba7de
size 26654
