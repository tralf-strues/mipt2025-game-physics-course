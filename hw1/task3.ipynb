version https://git-lfs.github.com/spec/v1
oid sha256:c3703c1980c32226b24ef49687f9c9f6d60fbc202d6cf3a3175f484cdfbd7d05
size 18598686
