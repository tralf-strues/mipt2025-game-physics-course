version https://git-lfs.github.com/spec/v1
oid sha256:663952036fb2fde7a6e61c38ba38d88c587c4a5ba339556e3dbc59a60ea463a8
size 18000616
