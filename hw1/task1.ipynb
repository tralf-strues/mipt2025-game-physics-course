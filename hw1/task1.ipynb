version https://git-lfs.github.com/spec/v1
oid sha256:da9dcd04a2cab3a18b8d52792b84edffb46e4bf4251edcf7ae9ec14472644d99
size 17108799
